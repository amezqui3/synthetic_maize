{
 "cells": [
  {
   "cell_type": "markdown",
   "metadata": {},
   "source": [
    "# Allometry"
   ]
  },
  {
   "cell_type": "code",
   "execution_count": 1,
   "metadata": {},
   "outputs": [],
   "source": [
    "import matplotlib.pyplot as plt\n",
    "import numpy as np\n",
    "import numpy.polynomial.polynomial as P\n",
    "import pandas as pd\n",
    "import glob\n",
    "import os\n",
    "import math\n",
    "import importlib\n",
    "from sklearn.metrics import r2_score\n",
    "%matplotlib inline\n",
    "import seaborn as sns\n",
    "\n",
    "import amaizeing_utils as maize"
   ]
  },
  {
   "cell_type": "markdown",
   "metadata": {},
   "source": [
    "## Load model data files"
   ]
  },
  {
   "cell_type": "code",
   "execution_count": 2,
   "metadata": {},
   "outputs": [
    {
     "data": {
      "text/plain": [
       "['../model/LPlant.L1_poly_model.csv',\n",
       " '../model/LPlant.L2_poly_model.csv',\n",
       " '../model/RPlant.L1_poly_model.csv',\n",
       " '../model/RPlant.L2_poly_model.csv']"
      ]
     },
     "execution_count": 2,
     "metadata": {},
     "output_type": "execute_result"
    }
   ],
   "source": [
    "src = '../model/'\n",
    "model_files = sorted(glob.glob(src+'*.csv'))\n",
    "model_files"
   ]
  },
  {
   "cell_type": "code",
   "execution_count": 5,
   "metadata": {},
   "outputs": [],
   "source": [
    "def read_model_csv(model_file):\n",
    "    csv_file = os.path.normpath(model_file).split(os.path.sep)[-1]\n",
    "    bname = ''.join(csv_file.split('_')[0].split('.'))\n",
    "\n",
    "    data = pd.read_csv(model_file)\n",
    "    data = data.set_index('Unnamed: 0')\n",
    "    data.index.rename('idx', inplace=True)\n",
    "\n",
    "    print(bname, data.shape, sep='\\t')\n",
    "    return data"
   ]
  },
  {
   "cell_type": "code",
   "execution_count": 54,
   "metadata": {},
   "outputs": [
    {
     "name": "stdout",
     "output_type": "stream",
     "text": [
      "LPlantL2\t(366, 23)\n",
      "RPlantL2\t(353, 23)\n"
     ]
    }
   ],
   "source": [
    "dataL = read_model_csv(model_files[1])\n",
    "dataR = read_model_csv(model_files[3])"
   ]
  },
  {
   "cell_type": "code",
   "execution_count": 55,
   "metadata": {},
   "outputs": [],
   "source": [
    "c = dataL.columns\n",
    "rename_dict = {c[8]:'Tip.Angle',\n",
    "               c[9]:'Tip.Distance',\n",
    "               c[10]:'Apex.Angle',\n",
    "               c[11]:'Apex.Distance',\n",
    "               c[12]:'Stem.Angle',\n",
    "               c[17]:'apex.x',\n",
    "               c[18]:'tip.x',\n",
    "               c[19]:'apex.y',\n",
    "               c[20]:'tip.y'}\n",
    "dataL.rename(columns=rename_dict, inplace=True)"
   ]
  },
  {
   "cell_type": "code",
   "execution_count": 56,
   "metadata": {},
   "outputs": [],
   "source": [
    "c = dataR.columns\n",
    "rename_dict = {c[8]:'Tip.Angle',\n",
    "               c[9]:'Tip.Distance',\n",
    "               c[10]:'Apex.Angle',\n",
    "               c[11]:'Apex.Distance',\n",
    "               c[12]:'Stem.Angle',\n",
    "               c[17]:'apex.x',\n",
    "               c[18]:'tip.x',\n",
    "               c[19]:'apex.y',\n",
    "               c[20]:'tip.y'}\n",
    "dataR.rename(columns=rename_dict, inplace=True)"
   ]
  },
  {
   "cell_type": "code",
   "execution_count": 57,
   "metadata": {},
   "outputs": [],
   "source": [
    "idx = dataL.index.intersection(dataR.index)\n",
    "data = dataL.loc[idx].append(dataR.loc[idx], ignore_index=True, sort=False)"
   ]
  },
  {
   "cell_type": "code",
   "execution_count": 58,
   "metadata": {},
   "outputs": [
    {
     "name": "stdout",
     "output_type": "stream",
     "text": [
      "(566, 23)\n"
     ]
    },
    {
     "data": {
      "text/html": [
       "<div>\n",
       "<style scoped>\n",
       "    .dataframe tbody tr th:only-of-type {\n",
       "        vertical-align: middle;\n",
       "    }\n",
       "\n",
       "    .dataframe tbody tr th {\n",
       "        vertical-align: top;\n",
       "    }\n",
       "\n",
       "    .dataframe thead th {\n",
       "        text-align: right;\n",
       "    }\n",
       "</style>\n",
       "<table border=\"1\" class=\"dataframe\">\n",
       "  <thead>\n",
       "    <tr style=\"text-align: right;\">\n",
       "      <th></th>\n",
       "      <th>plot</th>\n",
       "      <th>Pass</th>\n",
       "      <th>Range</th>\n",
       "      <th>Rep</th>\n",
       "      <th>New_Pedigree</th>\n",
       "      <th>Old_Pedigree</th>\n",
       "      <th>Old_Source</th>\n",
       "      <th>Shared</th>\n",
       "      <th>Tip.Angle</th>\n",
       "      <th>Tip.Distance</th>\n",
       "      <th>...</th>\n",
       "      <th>A1</th>\n",
       "      <th>N1</th>\n",
       "      <th>A2</th>\n",
       "      <th>N2</th>\n",
       "      <th>apex.x</th>\n",
       "      <th>tip.x</th>\n",
       "      <th>apex.y</th>\n",
       "      <th>tip.y</th>\n",
       "      <th>length</th>\n",
       "      <th>curled</th>\n",
       "    </tr>\n",
       "  </thead>\n",
       "  <tbody>\n",
       "    <tr>\n",
       "      <th>0</th>\n",
       "      <td>MIH119_1002</td>\n",
       "      <td>4</td>\n",
       "      <td>2</td>\n",
       "      <td>1</td>\n",
       "      <td>2369/LH123HT</td>\n",
       "      <td>2369/LH123HT</td>\n",
       "      <td>NaN</td>\n",
       "      <td>1.0</td>\n",
       "      <td>83</td>\n",
       "      <td>40.0</td>\n",
       "      <td>...</td>\n",
       "      <td>0.000757</td>\n",
       "      <td>3.007398</td>\n",
       "      <td>-1.926790</td>\n",
       "      <td>1.818836</td>\n",
       "      <td>35.247650</td>\n",
       "      <td>39.701846</td>\n",
       "      <td>34.038260</td>\n",
       "      <td>4.874774</td>\n",
       "      <td>83.318879</td>\n",
       "      <td>0.0</td>\n",
       "    </tr>\n",
       "    <tr>\n",
       "      <th>1</th>\n",
       "      <td>MIH119_1003</td>\n",
       "      <td>5</td>\n",
       "      <td>2</td>\n",
       "      <td>1</td>\n",
       "      <td>B37/H95</td>\n",
       "      <td>B73/PHN82</td>\n",
       "      <td>NaN</td>\n",
       "      <td>NaN</td>\n",
       "      <td>47</td>\n",
       "      <td>39.0</td>\n",
       "      <td>...</td>\n",
       "      <td>0.549855</td>\n",
       "      <td>1.435147</td>\n",
       "      <td>-2.176995</td>\n",
       "      <td>1.337701</td>\n",
       "      <td>22.821386</td>\n",
       "      <td>28.522794</td>\n",
       "      <td>48.940620</td>\n",
       "      <td>26.597936</td>\n",
       "      <td>77.712970</td>\n",
       "      <td>0.0</td>\n",
       "    </tr>\n",
       "    <tr>\n",
       "      <th>2</th>\n",
       "      <td>MIH119_1004</td>\n",
       "      <td>6</td>\n",
       "      <td>2</td>\n",
       "      <td>1</td>\n",
       "      <td>B37/H95</td>\n",
       "      <td>B14A/H95</td>\n",
       "      <td>NaN</td>\n",
       "      <td>NaN</td>\n",
       "      <td>78</td>\n",
       "      <td>39.0</td>\n",
       "      <td>...</td>\n",
       "      <td>0.027698</td>\n",
       "      <td>2.050304</td>\n",
       "      <td>-1.077360</td>\n",
       "      <td>1.480416</td>\n",
       "      <td>30.405592</td>\n",
       "      <td>38.147756</td>\n",
       "      <td>30.405592</td>\n",
       "      <td>8.108556</td>\n",
       "      <td>68.906309</td>\n",
       "      <td>0.0</td>\n",
       "    </tr>\n",
       "    <tr>\n",
       "      <th>3</th>\n",
       "      <td>MIH119_1007</td>\n",
       "      <td>9</td>\n",
       "      <td>2</td>\n",
       "      <td>1</td>\n",
       "      <td>B37/H95</td>\n",
       "      <td>B73/MO17</td>\n",
       "      <td>NaN</td>\n",
       "      <td>NaN</td>\n",
       "      <td>59</td>\n",
       "      <td>44.0</td>\n",
       "      <td>...</td>\n",
       "      <td>0.002691</td>\n",
       "      <td>2.808379</td>\n",
       "      <td>-2.311190</td>\n",
       "      <td>1.339725</td>\n",
       "      <td>32.120280</td>\n",
       "      <td>37.715361</td>\n",
       "      <td>45.872514</td>\n",
       "      <td>22.661675</td>\n",
       "      <td>84.791674</td>\n",
       "      <td>0.0</td>\n",
       "    </tr>\n",
       "    <tr>\n",
       "      <th>4</th>\n",
       "      <td>MIH119_1010</td>\n",
       "      <td>12</td>\n",
       "      <td>2</td>\n",
       "      <td>1</td>\n",
       "      <td>B37/H95</td>\n",
       "      <td>B37/H95</td>\n",
       "      <td>NaN</td>\n",
       "      <td>1.0</td>\n",
       "      <td>68</td>\n",
       "      <td>47.0</td>\n",
       "      <td>...</td>\n",
       "      <td>0.000034</td>\n",
       "      <td>3.971074</td>\n",
       "      <td>-0.520053</td>\n",
       "      <td>2.082613</td>\n",
       "      <td>36.135315</td>\n",
       "      <td>43.577641</td>\n",
       "      <td>51.606579</td>\n",
       "      <td>17.606510</td>\n",
       "      <td>106.686846</td>\n",
       "      <td>0.0</td>\n",
       "    </tr>\n",
       "  </tbody>\n",
       "</table>\n",
       "<p>5 rows × 23 columns</p>\n",
       "</div>"
      ],
      "text/plain": [
       "          plot  Pass  Range  Rep  New_Pedigree  Old_Pedigree Old_Source  \\\n",
       "0  MIH119_1002     4      2    1  2369/LH123HT  2369/LH123HT        NaN   \n",
       "1  MIH119_1003     5      2    1       B37/H95     B73/PHN82        NaN   \n",
       "2  MIH119_1004     6      2    1       B37/H95      B14A/H95        NaN   \n",
       "3  MIH119_1007     9      2    1       B37/H95      B73/MO17        NaN   \n",
       "4  MIH119_1010    12      2    1       B37/H95       B37/H95        NaN   \n",
       "\n",
       "   Shared  Tip.Angle  Tip.Distance  ...        A1        N1        A2  \\\n",
       "0     1.0         83          40.0  ...  0.000757  3.007398 -1.926790   \n",
       "1     NaN         47          39.0  ...  0.549855  1.435147 -2.176995   \n",
       "2     NaN         78          39.0  ...  0.027698  2.050304 -1.077360   \n",
       "3     NaN         59          44.0  ...  0.002691  2.808379 -2.311190   \n",
       "4     1.0         68          47.0  ...  0.000034  3.971074 -0.520053   \n",
       "\n",
       "         N2     apex.x      tip.x     apex.y      tip.y      length  curled  \n",
       "0  1.818836  35.247650  39.701846  34.038260   4.874774   83.318879     0.0  \n",
       "1  1.337701  22.821386  28.522794  48.940620  26.597936   77.712970     0.0  \n",
       "2  1.480416  30.405592  38.147756  30.405592   8.108556   68.906309     0.0  \n",
       "3  1.339725  32.120280  37.715361  45.872514  22.661675   84.791674     0.0  \n",
       "4  2.082613  36.135315  43.577641  51.606579  17.606510  106.686846     0.0  \n",
       "\n",
       "[5 rows x 23 columns]"
      ]
     },
     "execution_count": 58,
     "metadata": {},
     "output_type": "execute_result"
    }
   ],
   "source": [
    "#data = dataL.merge(dataR, how='inner', on=list(data.columns[:8]))\n",
    "print(data.shape)\n",
    "data.head()"
   ]
  },
  {
   "cell_type": "markdown",
   "metadata": {},
   "source": [
    "Enumerate all the available columns"
   ]
  },
  {
   "cell_type": "code",
   "execution_count": 59,
   "metadata": {},
   "outputs": [
    {
     "name": "stdout",
     "output_type": "stream",
     "text": [
      "0 \t plot\n",
      "1 \t Pass\n",
      "2 \t Range\n",
      "3 \t Rep\n",
      "4 \t New_Pedigree\n",
      "5 \t Old_Pedigree\n",
      "6 \t Old_Source\n",
      "7 \t Shared\n",
      "8 \t Tip.Angle\n",
      "9 \t Tip.Distance\n",
      "10 \t Apex.Angle\n",
      "11 \t Apex.Distance\n",
      "12 \t Stem.Angle\n",
      "13 \t A1\n",
      "14 \t N1\n",
      "15 \t A2\n",
      "16 \t N2\n",
      "17 \t apex.x\n",
      "18 \t tip.x\n",
      "19 \t apex.y\n",
      "20 \t tip.y\n",
      "21 \t length\n",
      "22 \t curled\n"
     ]
    }
   ],
   "source": [
    "for i,c in enumerate(data.columns):\n",
    "    print(i,'\\t',c)"
   ]
  },
  {
   "cell_type": "markdown",
   "metadata": {},
   "source": [
    "Do an allometry plot and compute the $R^2$ score of the linear fit for every possible combination of parameters"
   ]
  },
  {
   "cell_type": "code",
   "execution_count": 60,
   "metadata": {
    "scrolled": true
   },
   "outputs": [],
   "source": [
    "importlib.reload(maize)\n",
    "trait_s = 8\n",
    "trait_f = 22\n",
    "dpi = 100\n",
    "write_file = False\n",
    "plot_fig = False\n",
    "cutoff = 160\n",
    "X, Y, R2 = [], [], []\n",
    "for i in range(trait_s,trait_f):\n",
    "    for j in range(i+1, trait_f):\n",
    "        x,y,r2 = maize.fit_allometry(data, i,j, dpi=dpi, plot_fig=plot_fig,w=write_file)\n",
    "        R2.append(r2)\n",
    "        X.append(x)\n",
    "        Y.append(y)\n",
    "R2 = np.array(R2)"
   ]
  },
  {
   "cell_type": "code",
   "execution_count": 61,
   "metadata": {},
   "outputs": [
    {
     "data": {
      "text/html": [
       "<div>\n",
       "<style scoped>\n",
       "    .dataframe tbody tr th:only-of-type {\n",
       "        vertical-align: middle;\n",
       "    }\n",
       "\n",
       "    .dataframe tbody tr th {\n",
       "        vertical-align: top;\n",
       "    }\n",
       "\n",
       "    .dataframe thead th {\n",
       "        text-align: right;\n",
       "    }\n",
       "</style>\n",
       "<table border=\"1\" class=\"dataframe\">\n",
       "  <thead>\n",
       "    <tr style=\"text-align: right;\">\n",
       "      <th></th>\n",
       "      <th>X</th>\n",
       "      <th>Y</th>\n",
       "      <th>R2</th>\n",
       "    </tr>\n",
       "  </thead>\n",
       "  <tbody>\n",
       "    <tr>\n",
       "      <th>55</th>\n",
       "      <td>A1</td>\n",
       "      <td>N1</td>\n",
       "      <td>0.92796</td>\n",
       "    </tr>\n",
       "    <tr>\n",
       "      <th>70</th>\n",
       "      <td>A2</td>\n",
       "      <td>N2</td>\n",
       "      <td>0.794736</td>\n",
       "    </tr>\n",
       "    <tr>\n",
       "      <th>21</th>\n",
       "      <td>Tip.Distance</td>\n",
       "      <td>tip.x</td>\n",
       "      <td>0.741326</td>\n",
       "    </tr>\n",
       "    <tr>\n",
       "      <th>11</th>\n",
       "      <td>Tip.Angle</td>\n",
       "      <td>tip.y</td>\n",
       "      <td>0.597669</td>\n",
       "    </tr>\n",
       "    <tr>\n",
       "      <th>43</th>\n",
       "      <td>Apex.Distance</td>\n",
       "      <td>apex.y</td>\n",
       "      <td>0.591234</td>\n",
       "    </tr>\n",
       "  </tbody>\n",
       "</table>\n",
       "</div>"
      ],
      "text/plain": [
       "                X       Y        R2\n",
       "55             A1      N1   0.92796\n",
       "70             A2      N2  0.794736\n",
       "21   Tip.Distance   tip.x  0.741326\n",
       "11      Tip.Angle   tip.y  0.597669\n",
       "43  Apex.Distance  apex.y  0.591234"
      ]
     },
     "execution_count": 61,
     "metadata": {},
     "output_type": "execute_result"
    }
   ],
   "source": [
    "allometry = pd.DataFrame((X,Y,R2), index=['X','Y','R2']).T\n",
    "allometry.sort_values(by=['R2'], ascending=False).head()"
   ]
  },
  {
   "cell_type": "code",
   "execution_count": 50,
   "metadata": {},
   "outputs": [
    {
     "data": {
      "text/plain": [
       "Text(0, 0.5, 'R2')"
      ]
     },
     "execution_count": 50,
     "metadata": {},
     "output_type": "execute_result"
    },
    {
     "data": {
      "image/png": "[encoded data removed]",
      "text/plain": [
       "<Figure size 864x216 with 1 Axes>"
      ]
     },
     "metadata": {
      "needs_background": "light"
     },
     "output_type": "display_data"
    }
   ],
   "source": [
    "plt.figure(figsize=(12,3))\n",
    "plt.plot(np.sort(R2)[::-1], 'ob')\n",
    "plt.title('Sorted R2 values', fontsize=20)\n",
    "plt.ylabel('R2', fontsize=18)"
   ]
  },
  {
   "cell_type": "code",
   "execution_count": 62,
   "metadata": {},
   "outputs": [],
   "source": [
    "n = int((1+np.sqrt(1+8*len(R2)))*0.5)\n",
    "allo_matrix = np.full((n,n), np.nan)\n",
    "counter = 0\n",
    "for i in range(n):\n",
    "    for j in range(i+1,n):\n",
    "        allo_matrix[i,j] = R2[counter]\n",
    "        counter += 1"
   ]
  },
  {
   "cell_type": "code",
   "execution_count": 63,
   "metadata": {},
   "outputs": [
    {
     "data": {
      "image/png": "[encoded data removed]",
      "text/plain": [
       "<Figure size 720x720 with 1 Axes>"
      ]
     },
     "metadata": {
      "needs_background": "light"
     },
     "output_type": "display_data"
    }
   ],
   "source": [
    "fig, ax = plt.subplots(figsize=(10,10))\n",
    "im = ax.imshow(allo_matrix, cmap='cool', vmin=0, vmax=1)\n",
    "\n",
    "# We want to show all ticks...\n",
    "ax.set_xticks(np.arange(n))\n",
    "ax.set_yticks(np.arange(n))\n",
    "# ... and label them with the respective list entries\n",
    "ax.set_xticklabels(data.columns[trait_s:trait_f])\n",
    "ax.set_yticklabels(data.columns[trait_s:trait_f])\n",
    "\n",
    "# Rotate the tick labels and set their alignment.\n",
    "plt.setp(ax.get_xticklabels(), rotation=45, ha=\"right\",\n",
    "         rotation_mode=\"anchor\")\n",
    "\n",
    "ax.tick_params(labelsize=15)\n",
    "\n",
    "# Loop over data dimensions and create text annotations.\n",
    "for i in range(n):\n",
    "    for j in range(i+1, n):\n",
    "        if allo_matrix[i,j] >= 0.49:\n",
    "            tcolor = 'yellow'\n",
    "            fw = 'bold'\n",
    "            fs = 14\n",
    "        else:\n",
    "            tcolor = 'black'\n",
    "            fw = 'normal'\n",
    "            fs = 12\n",
    "        text = ax.text(j, i, '{:.2f}'.format(allo_matrix[i, j]),\n",
    "                       ha=\"center\", va=\"center\", color=tcolor, fontsize=fs, fontweight=fw)\n",
    "\n",
    "ax.set_title(\"$R^2$ linear correlation values (L2)\", fontsize=24)\n",
    "fig.tight_layout()\n",
    "\n",
    "dst = '../model/L2_'\n",
    "filename = dst + 'allometry_matrix.jpg'\n",
    "plt.savefig(filename, dpi=150, format='jpg', bbox_inches='tight', pil_kwargs={'optimize':True})"
   ]
  }
 ],
 "metadata": {
  "kernelspec": {
   "display_name": "Python 3",
   "language": "python",
   "name": "python3"
  },
  "language_info": {
   "codemirror_mode": {
    "name": "ipython",
    "version": 3
   },
   "file_extension": ".py",
   "mimetype": "text/x-python",
   "name": "python",
   "nbconvert_exporter": "python",
   "pygments_lexer": "ipython3",
   "version": "3.8.5"
  }
 },
 "nbformat": 4,
 "nbformat_minor": 4
}
