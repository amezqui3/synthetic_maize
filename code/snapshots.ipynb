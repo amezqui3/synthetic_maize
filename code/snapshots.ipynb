{
 "cells": [
  {
   "cell_type": "code",
   "execution_count": 29,
   "metadata": {},
   "outputs": [],
   "source": [
    "import rawpy\n",
    "import imageio\n",
    "import os\n",
    "import glob\n",
    "from skimage.color import rgb2gray"
   ]
  },
  {
   "cell_type": "code",
   "execution_count": 3,
   "metadata": {},
   "outputs": [],
   "source": [
    "src = '../maize/'\n",
    "dst = '../snapshots/'\n",
    "\n",
    "raw_pics = glob.glob(src + '*.ARW')"
   ]
  },
  {
   "cell_type": "code",
   "execution_count": 9,
   "metadata": {},
   "outputs": [],
   "source": [
    "for pic in raw_pics:\n",
    "    with rawpy.imread(pic) as raw:\n",
    "        rgb = raw.postprocess()\n",
    "    \n",
    "    _, fname = os.path.split(pic)\n",
    "    bname = os.path.splitext(fname)[0]\n",
    "\n",
    "    imageio.imsave(dst + bname[1:] + '.jpg', rgb, format='jpg', optimize=True)"
   ]
  }
 ],
 "metadata": {
  "kernelspec": {
   "display_name": "Python 3",
   "language": "python",
   "name": "python3"
  },
  "language_info": {
   "codemirror_mode": {
    "name": "ipython",
    "version": 3
   },
   "file_extension": ".py",
   "mimetype": "text/x-python",
   "name": "python",
   "nbconvert_exporter": "python",
   "pygments_lexer": "ipython3",
   "version": "3.6.9"
  }
 },
 "nbformat": 4,
 "nbformat_minor": 4
}
